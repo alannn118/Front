{
 "cells": [
  {
   "cell_type": "code",
   "execution_count": 1,
   "metadata": {},
   "outputs": [],
   "source": [
    "import pandas as pd\n",
    "import numpy as np\n",
    "import matplotlib.pyplot as plt\n",
    "from scipy import stats"
   ]
  },
  {
   "cell_type": "code",
   "execution_count": 2,
   "metadata": {},
   "outputs": [],
   "source": [
    "# Data: Motor IDs and Lifespans\n",
    "data = {\n",
    "    \"Motor ID\": list(range(1, 21)),\n",
    "    \"Lifespan (hours)\": [\n",
    "        980, 1050, 990, 1100, 1000,\n",
    "        980, 1020, 990, 950, 1020,\n",
    "        935, 1064, 953, 1037, 923,\n",
    "        984, 1063, 981, 990, 1049\n",
    "    ]\n",
    "}\n",
    "\n",
    "# Load data into DataFrame\n",
    "df = pd.DataFrame(data)"
   ]
  },
  {
   "cell_type": "code",
   "execution_count": 3,
   "metadata": {},
   "outputs": [
    {
     "name": "stdout",
     "output_type": "stream",
     "text": [
      "a. Average Lifespan: 1002.95 hours\n",
      "   The mean represents the central value of motor lifespans, useful for gauging general product performance.\n"
     ]
    }
   ],
   "source": [
    "# a. Average lifespan\n",
    "mean_lifespan = df[\"Lifespan (hours)\"].mean()\n",
    "print(f\"a. Average Lifespan: {mean_lifespan:.2f} hours\")\n",
    "print(\"   The mean represents the central value of motor lifespans, useful for gauging general product performance.\")"
   ]
  },
  {
   "cell_type": "code",
   "execution_count": 4,
   "metadata": {},
   "outputs": [
    {
     "data": {
      "image/png": "[encoded data removed]",
      "text/plain": [
       "<Figure size 800x500 with 1 Axes>"
      ]
     },
     "metadata": {},
     "output_type": "display_data"
    }
   ],
   "source": [
    "# b. Histogram\n",
    "plt.figure(figsize=(8, 5))\n",
    "plt.hist(df[\"Lifespan (hours)\"], bins=10, color='skyblue', edgecolor='black')\n",
    "plt.title(\"Histogram of Motor Lifespans\")\n",
    "plt.xlabel(\"Lifespan (hours)\")\n",
    "plt.ylabel(\"Number of Motors\")\n",
    "plt.grid(True)\n",
    "plt.tight_layout()\n",
    "plt.show()"
   ]
  },
  {
   "cell_type": "code",
   "execution_count": 5,
   "metadata": {},
   "outputs": [
    {
     "name": "stdout",
     "output_type": "stream",
     "text": [
      "c. Number of motors with lifespan >= 1000 hours: 9\n"
     ]
    }
   ],
   "source": [
    "# c. Count of motors >= 1000 hours\n",
    "count_ge_1000 = (df[\"Lifespan (hours)\"] >= 1000).sum()\n",
    "print(f\"c. Number of motors with lifespan >= 1000 hours: {count_ge_1000}\")"
   ]
  },
  {
   "cell_type": "code",
   "execution_count": 6,
   "metadata": {},
   "outputs": [
    {
     "name": "stdout",
     "output_type": "stream",
     "text": [
      "d. Standard Deviation: 46.76 hours\n",
      "   This value measures the spread of motor lifespans around the mean.\n"
     ]
    }
   ],
   "source": [
    "# d. Standard Deviation\n",
    "std_lifespan = df[\"Lifespan (hours)\"].std()\n",
    "print(f\"d. Standard Deviation: {std_lifespan:.2f} hours\")\n",
    "print(\"   This value measures the spread of motor lifespans around the mean.\")"
   ]
  },
  {
   "cell_type": "code",
   "execution_count": 7,
   "metadata": {},
   "outputs": [
    {
     "name": "stdout",
     "output_type": "stream",
     "text": [
      "e. Shapiro–Wilk Test p-value: 0.7236\n",
      "   The data likely follows a normal distribution (fail to reject H0).\n"
     ]
    }
   ],
   "source": [
    "# e. Normality test using Shapiro–Wilk test\n",
    "stat, p_value = stats.shapiro(df[\"Lifespan (hours)\"])\n",
    "print(f\"e. Shapiro–Wilk Test p-value: {p_value:.4f}\")\n",
    "if p_value > 0.05:\n",
    "    print(\"   The data likely follows a normal distribution (fail to reject H0).\")\n",
    "else:\n",
    "    print(\"   The data does not follow a normal distribution (reject H0).\")"
   ]
  },
  {
   "cell_type": "code",
   "execution_count": 8,
   "metadata": {},
   "outputs": [
    {
     "name": "stdout",
     "output_type": "stream",
     "text": [
      "f. Can we predict motor 21's lifespan?\n",
      "   No, we cannot reliably predict a single motor’s lifespan without additional features.\n",
      "   All motors are treated independently and we have no predictive model or patterns based on IDs.\n"
     ]
    }
   ],
   "source": [
    "# f. Predict lifespan of motor ID 21\n",
    "print(\"f. Can we predict motor 21's lifespan?\")\n",
    "print(\"   No, we cannot reliably predict a single motor’s lifespan without additional features.\")\n",
    "print(\"   All motors are treated independently and we have no predictive model or patterns based on IDs.\")"
   ]
  }
 ],
 "metadata": {
  "kernelspec": {
   "display_name": "Python 3",
   "language": "python",
   "name": "python3"
  },
  "language_info": {
   "codemirror_mode": {
    "name": "ipython",
    "version": 3
   },
   "file_extension": ".py",
   "mimetype": "text/x-python",
   "name": "python",
   "nbconvert_exporter": "python",
   "pygments_lexer": "ipython3",
   "version": "3.7.6"
  }
 },
 "nbformat": 4,
 "nbformat_minor": 5
}
